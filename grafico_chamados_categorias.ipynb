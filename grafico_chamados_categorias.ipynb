#Importando Bibliotécas necessárias
%matplotlib inline
import pandas as pd
import pydataset
import matplotlib.pyplot as plt
import seaborn as sns
import numpy as np

#Importando o Dataset
chamado_categorias = pd.read_excel('chamados_categorias.xls')

#Analisando as Tabelas
chamado_categorias

#Plotando o Gráfico
chamado_categorias.groupby('sub_classificacao')['desc_sub'].value_counts().plot(kind='bar', color='red', figsize=(11,7), label="Categorias")
plt.title('Gráfico de incidentes por Categorias (Mensal) - Junho de 2017')
plt.ylabel('Chamados')
plt.xlabel('Categorias                                                                        "Por: Thiago Fitz"')
plt.legend(loc='upper left')
plt.show()

